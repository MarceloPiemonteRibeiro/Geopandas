{
  "nbformat": 4,
  "nbformat_minor": 5,
  "metadata": {
    "kernelspec": {
      "display_name": "Python 3",
      "language": "python",
      "name": "python3"
    },
    "language_info": {
      "codemirror_mode": {
        "name": "ipython",
        "version": 3
      },
      "file_extension": ".py",
      "mimetype": "text/x-python",
      "name": "python",
      "nbconvert_exporter": "python",
      "pygments_lexer": "ipython3",
      "version": "3.9.2"
    },
    "colab": {
      "name": "Shapely_basics.ipynb",
      "provenance": [],
      "include_colab_link": true
    }
  },
  "cells": [
    {
      "cell_type": "markdown",
      "metadata": {
        "id": "view-in-github",
        "colab_type": "text"
      },
      "source": [
        "<a href=\"https://colab.research.google.com/github/MarceloPiemonteRibeiro/Geopandas/blob/main/Geopandas/Shape_files_intro/Shapely_basics.ipynb\" target=\"_parent\"><img src=\"https://colab.research.google.com/assets/colab-badge.svg\" alt=\"Open In Colab\"/></a>"
      ]
    },
    {
      "cell_type": "markdown",
      "metadata": {
        "id": "iCHJDwUeRHmH"
      },
      "source": [
        "Source of the below material: Introduction to GIS Methods in Economics (Instructors: Giorgio Chiovelli and Sebastian Hohmann)"
      ],
      "id": "iCHJDwUeRHmH"
    },
    {
      "cell_type": "markdown",
      "metadata": {
        "id": "dddb82bc"
      },
      "source": [
        "# Quick intro to Shapely"
      ],
      "id": "dddb82bc"
    },
    {
      "cell_type": "markdown",
      "metadata": {
        "id": "b232983b"
      },
      "source": [
        "Contents:\n",
        "- [1 Overview](#1-Overview)\n",
        "- [2 Points](#2-Points)\n",
        "  - [2.1 Defining points](#2.1-Defining-points)\n",
        "  - [2.2 Getting co-ordinates](#2.2-Getting-co-ordinates)\n",
        "  - [2.3 Calculating distances between points](#2.3-Calculating-distances-between-points)\n",
        "- [3 Lines](#3-Lines)\n",
        "  - [3.1 Defining lines](#3.1-Defining-lines)\n",
        "  - [3.2 Getting co-ordinates, computing length](#3.2-Getting-co-ordinates,-computing-length)\n",
        "- [4 Polygons](#4-Polygons)\n",
        "  - [4.1 Defining Polygons](#4.1-Defining-Polygons)\n",
        "  - [4.2 Getting bounds, envelope, exterior, area, centroid](#4.2-Getting-bounds,-envelope,-exterior,-area,-centroid)\n",
        "    - [4.2.1 bounds](#4.2.1-bounds)\n",
        "  - [4.2.2 envelope](#4.2.2-envelope)\n",
        "    - [4.2.3 exterior](#4.2.3-exterior)\n",
        "    - [4.2.4 area](#4.2.4-area)\n",
        "    - [4.2.5 centroid](#4.2.5-centroid)\n",
        "- [5 Geometry collections](#5-Geometry-collections)"
      ],
      "id": "b232983b"
    },
    {
      "cell_type": "code",
      "metadata": {
        "id": "3947177f"
      },
      "source": [
        "from shapely.geometry import Point, LineString, Polygon"
      ],
      "id": "3947177f",
      "execution_count": null,
      "outputs": []
    },
    {
      "cell_type": "markdown",
      "metadata": {
        "id": "263a36d9"
      },
      "source": [
        "# 1 Overview"
      ],
      "id": "263a36d9"
    },
    {
      "cell_type": "markdown",
      "metadata": {
        "id": "25f463e6"
      },
      "source": [
        "[Shapely](https://shapely.readthedocs.io/en/stable/manual.html) is a library for geometric objects. Fundamental types are\n",
        "- `Points`\n",
        "- `Lines`\n",
        "- `Polygons`\n",
        "\n",
        "Shapely can \n",
        "- create `Lines` or `Polygons` from `Collections` of `Points`\n",
        "- calculate things like lengths and areas\n",
        "- do geometric operations like `Union`, `Difference`, `Distance`\n",
        "- do spatial queries between geometries like `Intersects`, `Touches`, `Within`\n",
        "\n",
        "Geometric objects are tuples\n",
        "- `Points` can be 2-D (x, y) or 3-D (x, y, z)\n",
        "- `LineString` are sequence of points joined together (i.e. at least two co-ordinate tuples)\n",
        "- `Polygon` filled area of at least 3 co-ordinate tuples\n",
        "\n",
        "Geometric collections\n",
        "- `MultiPoint`, `MultiLineString` and `MultiPolygon` are collections of `Point`, `LineString` and `Polygon` objects (i.e. they consist of multiple parts of the these types of objects)"
      ],
      "id": "25f463e6"
    },
    {
      "cell_type": "markdown",
      "metadata": {
        "id": "2cf735f0"
      },
      "source": [
        "# 2 Points"
      ],
      "id": "2cf735f0"
    },
    {
      "cell_type": "markdown",
      "metadata": {
        "id": "e4b79de4"
      },
      "source": [
        "## 2.1 Defining points"
      ],
      "id": "e4b79de4"
    },
    {
      "cell_type": "code",
      "metadata": {
        "id": "e51e2a7e"
      },
      "source": [
        "p1 = Point(1, 1)\n",
        "p2 = Point(2, 3)\n",
        "p3 = Point(4, -2)"
      ],
      "id": "e51e2a7e",
      "execution_count": null,
      "outputs": []
    },
    {
      "cell_type": "code",
      "metadata": {
        "id": "4e638288",
        "colab": {
          "base_uri": "https://localhost:8080/",
          "height": 121
        },
        "outputId": "59ce2955-9d52-4dd0-c25d-b270bb40680e"
      },
      "source": [
        "p1"
      ],
      "id": "4e638288",
      "execution_count": null,
      "outputs": [
        {
          "output_type": "execute_result",
          "data": {
            "text/plain": [
              "<shapely.geometry.point.Point at 0x7fe63399a590>"
            ],
            "image/svg+xml": "<svg xmlns=\"http://www.w3.org/2000/svg\" xmlns:xlink=\"http://www.w3.org/1999/xlink\" width=\"100.0\" height=\"100.0\" viewBox=\"0.0 0.0 2.0 2.0\" preserveAspectRatio=\"xMinYMin meet\"><g transform=\"matrix(1,0,0,-1,0,2.0)\"><circle cx=\"1.0\" cy=\"1.0\" r=\"0.06\" stroke=\"#555555\" stroke-width=\"0.02\" fill=\"#66cc99\" opacity=\"0.6\" /></g></svg>"
          },
          "metadata": {
            "tags": []
          },
          "execution_count": 3
        }
      ]
    },
    {
      "cell_type": "code",
      "metadata": {
        "id": "0bc6cb81",
        "colab": {
          "base_uri": "https://localhost:8080/"
        },
        "outputId": "b74606c4-defa-4fcd-88cb-0f448360842b"
      },
      "source": [
        "type(p1)"
      ],
      "id": "0bc6cb81",
      "execution_count": null,
      "outputs": [
        {
          "output_type": "execute_result",
          "data": {
            "text/plain": [
              "shapely.geometry.point.Point"
            ]
          },
          "metadata": {
            "tags": []
          },
          "execution_count": 4
        }
      ]
    },
    {
      "cell_type": "code",
      "metadata": {
        "id": "7a8c24c3",
        "colab": {
          "base_uri": "https://localhost:8080/",
          "height": 35
        },
        "outputId": "d62208e1-8110-407d-bb49-2b7132913ab4"
      },
      "source": [
        "p1.geom_type"
      ],
      "id": "7a8c24c3",
      "execution_count": null,
      "outputs": [
        {
          "output_type": "execute_result",
          "data": {
            "application/vnd.google.colaboratory.intrinsic+json": {
              "type": "string"
            },
            "text/plain": [
              "'Point'"
            ]
          },
          "metadata": {
            "tags": []
          },
          "execution_count": 5
        }
      ]
    },
    {
      "cell_type": "markdown",
      "metadata": {
        "id": "5c57c9ce"
      },
      "source": [
        "## 2.2 Getting co-ordinates"
      ],
      "id": "5c57c9ce"
    },
    {
      "cell_type": "code",
      "metadata": {
        "id": "7fe9a709",
        "colab": {
          "base_uri": "https://localhost:8080/"
        },
        "outputId": "cea1ef5e-bbe0-4860-ce18-e39c73fcfb11"
      },
      "source": [
        "p2.coords.xy"
      ],
      "id": "7fe9a709",
      "execution_count": null,
      "outputs": [
        {
          "output_type": "execute_result",
          "data": {
            "text/plain": [
              "(array('d', [2.0]), array('d', [3.0]))"
            ]
          },
          "metadata": {
            "tags": []
          },
          "execution_count": 6
        }
      ]
    },
    {
      "cell_type": "code",
      "metadata": {
        "id": "2c2fe58d",
        "colab": {
          "base_uri": "https://localhost:8080/"
        },
        "outputId": "4bb5aac6-2202-4e8a-aa46-03f8e02ec45a"
      },
      "source": [
        "p2.x"
      ],
      "id": "2c2fe58d",
      "execution_count": null,
      "outputs": [
        {
          "output_type": "execute_result",
          "data": {
            "text/plain": [
              "2.0"
            ]
          },
          "metadata": {
            "tags": []
          },
          "execution_count": 7
        }
      ]
    },
    {
      "cell_type": "code",
      "metadata": {
        "id": "00313626",
        "colab": {
          "base_uri": "https://localhost:8080/"
        },
        "outputId": "4e078bf5-5d8e-4b59-bbd4-a19be49a9e9d"
      },
      "source": [
        "p2.y"
      ],
      "id": "00313626",
      "execution_count": null,
      "outputs": [
        {
          "output_type": "execute_result",
          "data": {
            "text/plain": [
              "3.0"
            ]
          },
          "metadata": {
            "tags": []
          },
          "execution_count": 8
        }
      ]
    },
    {
      "cell_type": "markdown",
      "metadata": {
        "id": "d5b03b6e"
      },
      "source": [
        "## 2.3 Calculating distances between points"
      ],
      "id": "d5b03b6e"
    },
    {
      "cell_type": "code",
      "metadata": {
        "id": "7e93e257",
        "colab": {
          "base_uri": "https://localhost:8080/"
        },
        "outputId": "c3563bee-4794-488c-cd19-48a7e1350376"
      },
      "source": [
        "p1.distance(p2)"
      ],
      "id": "7e93e257",
      "execution_count": null,
      "outputs": [
        {
          "output_type": "execute_result",
          "data": {
            "text/plain": [
              "2.23606797749979"
            ]
          },
          "metadata": {
            "tags": []
          },
          "execution_count": 9
        }
      ]
    },
    {
      "cell_type": "markdown",
      "metadata": {
        "id": "9c8cbfb7"
      },
      "source": [
        "we can also do this manually"
      ],
      "id": "9c8cbfb7"
    },
    {
      "cell_type": "code",
      "metadata": {
        "id": "456dfb10",
        "colab": {
          "base_uri": "https://localhost:8080/"
        },
        "outputId": "2f8f57b6-5571-4445-d92a-fa6e542da20d"
      },
      "source": [
        "((p1.x - p2.x) ** 2 + (p1.y - p2.y) ** 2) ** 0.5"
      ],
      "id": "456dfb10",
      "execution_count": null,
      "outputs": [
        {
          "output_type": "execute_result",
          "data": {
            "text/plain": [
              "2.23606797749979"
            ]
          },
          "metadata": {
            "tags": []
          },
          "execution_count": 10
        }
      ]
    },
    {
      "cell_type": "markdown",
      "metadata": {
        "id": "cdb0e6ac"
      },
      "source": [
        "# 3 Lines"
      ],
      "id": "cdb0e6ac"
    },
    {
      "cell_type": "markdown",
      "metadata": {
        "id": "0d485392"
      },
      "source": [
        "## 3.1 Defining lines"
      ],
      "id": "0d485392"
    },
    {
      "cell_type": "markdown",
      "metadata": {
        "id": "cb4d08ac"
      },
      "source": [
        "Lines can be defined from \n",
        "- coordinates\n",
        "- `Point` objects"
      ],
      "id": "cb4d08ac"
    },
    {
      "cell_type": "code",
      "metadata": {
        "id": "b1ceeb63"
      },
      "source": [
        "l1 = LineString([p1, p2, p3])\n",
        "l2 = LineString([(3.2, 1.6), (-2.7, 8.2)])"
      ],
      "id": "b1ceeb63",
      "execution_count": null,
      "outputs": []
    },
    {
      "cell_type": "code",
      "metadata": {
        "id": "b9a593f7",
        "colab": {
          "base_uri": "https://localhost:8080/",
          "height": 121
        },
        "outputId": "efe81012-8d9d-424a-89b9-e57bc16756d4"
      },
      "source": [
        "l1"
      ],
      "id": "b9a593f7",
      "execution_count": null,
      "outputs": [
        {
          "output_type": "execute_result",
          "data": {
            "text/plain": [
              "<shapely.geometry.linestring.LineString at 0x7fe63655f950>"
            ],
            "image/svg+xml": "<svg xmlns=\"http://www.w3.org/2000/svg\" xmlns:xlink=\"http://www.w3.org/1999/xlink\" width=\"100.0\" height=\"100.0\" viewBox=\"0.8 -2.2 3.4000000000000004 5.4\" preserveAspectRatio=\"xMinYMin meet\"><g transform=\"matrix(1,0,0,-1,0,1.0)\"><polyline fill=\"none\" stroke=\"#66cc99\" stroke-width=\"0.10800000000000001\" points=\"1.0,1.0 2.0,3.0 4.0,-2.0\" opacity=\"0.8\" /></g></svg>"
          },
          "metadata": {
            "tags": []
          },
          "execution_count": 12
        }
      ]
    },
    {
      "cell_type": "code",
      "metadata": {
        "id": "b5c4c5b7",
        "colab": {
          "base_uri": "https://localhost:8080/",
          "height": 121
        },
        "outputId": "44835a40-fd2e-4211-d466-9a502c572658"
      },
      "source": [
        "l2"
      ],
      "id": "b5c4c5b7",
      "execution_count": null,
      "outputs": [
        {
          "output_type": "execute_result",
          "data": {
            "text/plain": [
              "<shapely.geometry.linestring.LineString at 0x7fe63432da90>"
            ],
            "image/svg+xml": "<svg xmlns=\"http://www.w3.org/2000/svg\" xmlns:xlink=\"http://www.w3.org/1999/xlink\" width=\"100.0\" height=\"100.0\" viewBox=\"-2.9640000000000004 1.336 6.428000000000001 7.127999999999998\" preserveAspectRatio=\"xMinYMin meet\"><g transform=\"matrix(1,0,0,-1,0,9.799999999999999)\"><polyline fill=\"none\" stroke=\"#66cc99\" stroke-width=\"0.14255999999999996\" points=\"3.2,1.6 -2.7,8.2\" opacity=\"0.8\" /></g></svg>"
          },
          "metadata": {
            "tags": []
          },
          "execution_count": 13
        }
      ]
    },
    {
      "cell_type": "code",
      "metadata": {
        "id": "1bd0d7ab",
        "colab": {
          "base_uri": "https://localhost:8080/",
          "height": 35
        },
        "outputId": "468443fb-33b5-4e67-cb93-48e9a41c4735"
      },
      "source": [
        "l1.geom_type"
      ],
      "id": "1bd0d7ab",
      "execution_count": null,
      "outputs": [
        {
          "output_type": "execute_result",
          "data": {
            "application/vnd.google.colaboratory.intrinsic+json": {
              "type": "string"
            },
            "text/plain": [
              "'LineString'"
            ]
          },
          "metadata": {
            "tags": []
          },
          "execution_count": 14
        }
      ]
    },
    {
      "cell_type": "markdown",
      "metadata": {
        "id": "9bf0d993"
      },
      "source": [
        "## 3.2 Getting co-ordinates, computing length"
      ],
      "id": "9bf0d993"
    },
    {
      "cell_type": "code",
      "metadata": {
        "id": "60d8776e",
        "colab": {
          "base_uri": "https://localhost:8080/"
        },
        "outputId": "777f06a9-038c-4b70-fcfb-26c45beac984"
      },
      "source": [
        "l1.xy"
      ],
      "id": "60d8776e",
      "execution_count": null,
      "outputs": [
        {
          "output_type": "execute_result",
          "data": {
            "text/plain": [
              "(array('d', [1.0, 2.0, 4.0]), array('d', [1.0, 3.0, -2.0]))"
            ]
          },
          "metadata": {
            "tags": []
          },
          "execution_count": 15
        }
      ]
    },
    {
      "cell_type": "code",
      "metadata": {
        "id": "49e98778",
        "colab": {
          "base_uri": "https://localhost:8080/"
        },
        "outputId": "8d33cd18-3d1f-47e8-ec83-74af605f511a"
      },
      "source": [
        "l1.xy[0]"
      ],
      "id": "49e98778",
      "execution_count": null,
      "outputs": [
        {
          "output_type": "execute_result",
          "data": {
            "text/plain": [
              "array('d', [1.0, 2.0, 4.0])"
            ]
          },
          "metadata": {
            "tags": []
          },
          "execution_count": 16
        }
      ]
    },
    {
      "cell_type": "code",
      "metadata": {
        "id": "a020dd7a",
        "colab": {
          "base_uri": "https://localhost:8080/"
        },
        "outputId": "084ec0c9-2ab2-4466-8724-fc68caaf4312"
      },
      "source": [
        "l1.length"
      ],
      "id": "a020dd7a",
      "execution_count": null,
      "outputs": [
        {
          "output_type": "execute_result",
          "data": {
            "text/plain": [
              "7.6212327846342935"
            ]
          },
          "metadata": {
            "tags": []
          },
          "execution_count": 17
        }
      ]
    },
    {
      "cell_type": "markdown",
      "metadata": {
        "id": "bfc99d30"
      },
      "source": [
        "Once again, we can use the pythagorean theorem to compute the length ourselves"
      ],
      "id": "bfc99d30"
    },
    {
      "cell_type": "code",
      "metadata": {
        "id": "54ba1d5d",
        "colab": {
          "base_uri": "https://localhost:8080/"
        },
        "outputId": "20b5d2de-a363-456f-e678-1a4c552bd7f5"
      },
      "source": [
        "(((l1.xy[0][0] - l1.xy[0][1]) ** 2 +\n",
        " (l1.xy[1][0] - l1.xy[1][1]) ** 2) ** 0.5 +\n",
        " ((l1.xy[0][1] - l1.xy[0][2]) ** 2 +\n",
        " (l1.xy[1][1] - l1.xy[1][2]) ** 2) ** 0.5)"
      ],
      "id": "54ba1d5d",
      "execution_count": null,
      "outputs": [
        {
          "output_type": "execute_result",
          "data": {
            "text/plain": [
              "7.6212327846342935"
            ]
          },
          "metadata": {
            "tags": []
          },
          "execution_count": 18
        }
      ]
    },
    {
      "cell_type": "markdown",
      "metadata": {
        "id": "950c7278"
      },
      "source": [
        "# 4 Polygons"
      ],
      "id": "950c7278"
    },
    {
      "cell_type": "markdown",
      "metadata": {
        "id": "4b4f2668"
      },
      "source": [
        "## 4.1 Defining Polygons\n",
        "\n",
        "Once again, we can define polygons from existing `Point` objects or by listing their vertices"
      ],
      "id": "4b4f2668"
    },
    {
      "cell_type": "code",
      "metadata": {
        "id": "b206ad80"
      },
      "source": [
        "pol1 = Polygon([p1, p2, p3])\n",
        "pol2 = Polygon([(3.2, 1.6), (-2.7, 8.2), (5.5, 5.5), (8.2, 8.2)])"
      ],
      "id": "b206ad80",
      "execution_count": null,
      "outputs": []
    },
    {
      "cell_type": "code",
      "metadata": {
        "id": "55ff8bd6",
        "colab": {
          "base_uri": "https://localhost:8080/",
          "height": 121
        },
        "outputId": "30e1b742-99fb-4bae-c826-c2295cc97d60"
      },
      "source": [
        "pol1"
      ],
      "id": "55ff8bd6",
      "execution_count": null,
      "outputs": [
        {
          "output_type": "execute_result",
          "data": {
            "text/plain": [
              "<shapely.geometry.polygon.Polygon at 0x7fe6339c7450>"
            ],
            "image/svg+xml": "<svg xmlns=\"http://www.w3.org/2000/svg\" xmlns:xlink=\"http://www.w3.org/1999/xlink\" width=\"100.0\" height=\"100.0\" viewBox=\"0.8 -2.2 3.4000000000000004 5.4\" preserveAspectRatio=\"xMinYMin meet\"><g transform=\"matrix(1,0,0,-1,0,1.0)\"><path fill-rule=\"evenodd\" fill=\"#66cc99\" stroke=\"#555555\" stroke-width=\"0.10800000000000001\" opacity=\"0.6\" d=\"M 1.0,1.0 L 2.0,3.0 L 4.0,-2.0 L 1.0,1.0 z\" /></g></svg>"
          },
          "metadata": {
            "tags": []
          },
          "execution_count": 20
        }
      ]
    },
    {
      "cell_type": "code",
      "metadata": {
        "id": "e677d306",
        "colab": {
          "base_uri": "https://localhost:8080/",
          "height": 121
        },
        "outputId": "f768c875-c106-4352-da01-a56234e94630"
      },
      "source": [
        "pol2"
      ],
      "id": "e677d306",
      "execution_count": null,
      "outputs": [
        {
          "output_type": "execute_result",
          "data": {
            "text/plain": [
              "<shapely.geometry.polygon.Polygon at 0x7fe6339c7810>"
            ],
            "image/svg+xml": "<svg xmlns=\"http://www.w3.org/2000/svg\" xmlns:xlink=\"http://www.w3.org/1999/xlink\" width=\"100.0\" height=\"100.0\" viewBox=\"-3.136 1.1640000000000001 11.771999999999998 7.4719999999999995\" preserveAspectRatio=\"xMinYMin meet\"><g transform=\"matrix(1,0,0,-1,0,9.799999999999999)\"><path fill-rule=\"evenodd\" fill=\"#66cc99\" stroke=\"#555555\" stroke-width=\"0.23543999999999998\" opacity=\"0.6\" d=\"M 3.2,1.6 L -2.7,8.2 L 5.5,5.5 L 8.2,8.2 L 3.2,1.6 z\" /></g></svg>"
          },
          "metadata": {
            "tags": []
          },
          "execution_count": 21
        }
      ]
    },
    {
      "cell_type": "code",
      "metadata": {
        "id": "c5b97b0a",
        "colab": {
          "base_uri": "https://localhost:8080/"
        },
        "outputId": "3fb4a775-ad80-47d8-b8ad-097de104786f"
      },
      "source": [
        "print(pol1)"
      ],
      "id": "c5b97b0a",
      "execution_count": null,
      "outputs": [
        {
          "output_type": "stream",
          "text": [
            "POLYGON ((1 1, 2 3, 4 -2, 1 1))\n"
          ],
          "name": "stdout"
        }
      ]
    },
    {
      "cell_type": "markdown",
      "metadata": {
        "id": "190a0437"
      },
      "source": [
        "Note the double parentheses. this is because polygons can have holes:"
      ],
      "id": "190a0437"
    },
    {
      "cell_type": "code",
      "metadata": {
        "id": "d1b7e070"
      },
      "source": [
        "exterior = [(-180, 90), (-180, -90), (180, -90), (180, 90)]\n",
        "hole = [(x*0.8, y*0.8) for x, y in exterior]\n",
        "exterior_poly = Polygon(exterior)\n",
        "poly_with_hole = Polygon(shell=exterior, holes=[hole])"
      ],
      "id": "d1b7e070",
      "execution_count": null,
      "outputs": []
    },
    {
      "cell_type": "code",
      "metadata": {
        "id": "ff2a9081",
        "colab": {
          "base_uri": "https://localhost:8080/",
          "height": 230
        },
        "outputId": "2e92580f-7b59-43d1-bd50-b32cf72c15aa"
      },
      "source": [
        "poly_with_hole"
      ],
      "id": "ff2a9081",
      "execution_count": null,
      "outputs": [
        {
          "output_type": "execute_result",
          "data": {
            "text/plain": [
              "<shapely.geometry.polygon.Polygon at 0x7fe6339c7cd0>"
            ],
            "image/svg+xml": "<svg xmlns=\"http://www.w3.org/2000/svg\" xmlns:xlink=\"http://www.w3.org/1999/xlink\" width=\"300\" height=\"208.8\" viewBox=\"-194.4 -104.4 388.8 208.8\" preserveAspectRatio=\"xMinYMin meet\"><g transform=\"matrix(1,0,0,-1,0,0.0)\"><path fill-rule=\"evenodd\" fill=\"#66cc99\" stroke=\"#555555\" stroke-width=\"2.592\" opacity=\"0.6\" d=\"M -180.0,90.0 L -180.0,-90.0 L 180.0,-90.0 L 180.0,90.0 L -180.0,90.0 z M -144.0,72.0 L -144.0,-72.0 L 144.0,-72.0 L 144.0,72.0 L -144.0,72.0 z\" /></g></svg>"
          },
          "metadata": {
            "tags": []
          },
          "execution_count": 24
        }
      ]
    },
    {
      "cell_type": "markdown",
      "metadata": {
        "id": "4569109d"
      },
      "source": [
        "## 4.2 Getting bounds, envelope, exterior, area, centroid"
      ],
      "id": "4569109d"
    },
    {
      "cell_type": "markdown",
      "metadata": {
        "id": "b41d4bff"
      },
      "source": [
        "### 4.2.1 bounds"
      ],
      "id": "b41d4bff"
    },
    {
      "cell_type": "markdown",
      "metadata": {
        "id": "599cdf59"
      },
      "source": [
        "Recall that we had defined `pol1` from `p1`, `p2`, `p3`. "
      ],
      "id": "599cdf59"
    },
    {
      "cell_type": "code",
      "metadata": {
        "id": "8f930abe",
        "colab": {
          "base_uri": "https://localhost:8080/"
        },
        "outputId": "e55ddd4a-7985-4258-8eea-a8569bac31f6"
      },
      "source": [
        "for p in [p1, p2, p3]:\n",
        "    print(p.xy)"
      ],
      "id": "8f930abe",
      "execution_count": null,
      "outputs": [
        {
          "output_type": "stream",
          "text": [
            "(array('d', [1.0]), array('d', [1.0]))\n",
            "(array('d', [2.0]), array('d', [3.0]))\n",
            "(array('d', [4.0]), array('d', [-2.0]))\n"
          ],
          "name": "stdout"
        }
      ]
    },
    {
      "cell_type": "code",
      "metadata": {
        "id": "c958b098",
        "colab": {
          "base_uri": "https://localhost:8080/"
        },
        "outputId": "4b7ce1f1-e9b8-49cf-a522-6cbbaf8880ab"
      },
      "source": [
        "pol1.bounds"
      ],
      "id": "c958b098",
      "execution_count": null,
      "outputs": [
        {
          "output_type": "execute_result",
          "data": {
            "text/plain": [
              "(1.0, -2.0, 4.0, 3.0)"
            ]
          },
          "metadata": {
            "tags": []
          },
          "execution_count": 26
        }
      ]
    },
    {
      "cell_type": "code",
      "metadata": {
        "id": "1b801228"
      },
      "source": [
        "?pol1.bounds"
      ],
      "id": "1b801228",
      "execution_count": null,
      "outputs": []
    },
    {
      "cell_type": "markdown",
      "metadata": {
        "id": "46f66532"
      },
      "source": [
        "## 4.2.2 envelope"
      ],
      "id": "46f66532"
    },
    {
      "cell_type": "code",
      "metadata": {
        "id": "239ad6ac",
        "colab": {
          "base_uri": "https://localhost:8080/",
          "height": 121
        },
        "outputId": "28d684a5-6398-46bf-d495-dbcfce137e5d"
      },
      "source": [
        "pol1.envelope"
      ],
      "id": "239ad6ac",
      "execution_count": null,
      "outputs": [
        {
          "output_type": "execute_result",
          "data": {
            "text/plain": [
              "<shapely.geometry.polygon.Polygon at 0x7fe6339c1110>"
            ],
            "image/svg+xml": "<svg xmlns=\"http://www.w3.org/2000/svg\" xmlns:xlink=\"http://www.w3.org/1999/xlink\" width=\"100.0\" height=\"100.0\" viewBox=\"0.8 -2.2 3.4000000000000004 5.4\" preserveAspectRatio=\"xMinYMin meet\"><g transform=\"matrix(1,0,0,-1,0,1.0)\"><path fill-rule=\"evenodd\" fill=\"#66cc99\" stroke=\"#555555\" stroke-width=\"0.10800000000000001\" opacity=\"0.6\" d=\"M 1.0,-2.0 L 4.0,-2.0 L 4.0,3.0 L 1.0,3.0 L 1.0,-2.0 z\" /></g></svg>"
          },
          "metadata": {
            "tags": []
          },
          "execution_count": 28
        }
      ]
    },
    {
      "cell_type": "code",
      "metadata": {
        "id": "c547abb8"
      },
      "source": [
        "?pol1.envelope"
      ],
      "id": "c547abb8",
      "execution_count": null,
      "outputs": []
    },
    {
      "cell_type": "markdown",
      "metadata": {
        "id": "77524210"
      },
      "source": [
        "### 4.2.3 exterior"
      ],
      "id": "77524210"
    },
    {
      "cell_type": "code",
      "metadata": {
        "id": "19013a7f",
        "colab": {
          "base_uri": "https://localhost:8080/",
          "height": 121
        },
        "outputId": "8899815b-efed-45b7-aee0-0d26b096cbb3"
      },
      "source": [
        "pol1.exterior"
      ],
      "id": "19013a7f",
      "execution_count": null,
      "outputs": [
        {
          "output_type": "execute_result",
          "data": {
            "text/plain": [
              "<shapely.geometry.polygon.LinearRing at 0x7fe63395d250>"
            ],
            "image/svg+xml": "<svg xmlns=\"http://www.w3.org/2000/svg\" xmlns:xlink=\"http://www.w3.org/1999/xlink\" width=\"100.0\" height=\"100.0\" viewBox=\"0.8 -2.2 3.4000000000000004 5.4\" preserveAspectRatio=\"xMinYMin meet\"><g transform=\"matrix(1,0,0,-1,0,1.0)\"><polyline fill=\"none\" stroke=\"#66cc99\" stroke-width=\"0.10800000000000001\" points=\"1.0,1.0 2.0,3.0 4.0,-2.0 1.0,1.0\" opacity=\"0.8\" /></g></svg>"
          },
          "metadata": {
            "tags": []
          },
          "execution_count": 30
        }
      ]
    },
    {
      "cell_type": "code",
      "metadata": {
        "id": "382a93fd",
        "colab": {
          "base_uri": "https://localhost:8080/"
        },
        "outputId": "cd9029b2-a2cd-442f-8cfb-c87218a5f8a9"
      },
      "source": [
        "pol1.exterior.xy"
      ],
      "id": "382a93fd",
      "execution_count": null,
      "outputs": [
        {
          "output_type": "execute_result",
          "data": {
            "text/plain": [
              "(array('d', [1.0, 2.0, 4.0, 1.0]), array('d', [1.0, 3.0, -2.0, 1.0]))"
            ]
          },
          "metadata": {
            "tags": []
          },
          "execution_count": 31
        }
      ]
    },
    {
      "cell_type": "code",
      "metadata": {
        "id": "6be06e8a",
        "colab": {
          "base_uri": "https://localhost:8080/"
        },
        "outputId": "04f6a264-0f2a-4b09-eb5b-ed927dc43ab0"
      },
      "source": [
        "pol1.envelope.exterior.xy"
      ],
      "id": "6be06e8a",
      "execution_count": null,
      "outputs": [
        {
          "output_type": "execute_result",
          "data": {
            "text/plain": [
              "(array('d', [1.0, 4.0, 4.0, 1.0, 1.0]),\n",
              " array('d', [-2.0, -2.0, 3.0, 3.0, -2.0]))"
            ]
          },
          "metadata": {
            "tags": []
          },
          "execution_count": 32
        }
      ]
    },
    {
      "cell_type": "markdown",
      "metadata": {
        "id": "a3e74d1a"
      },
      "source": [
        "### 4.2.4 area"
      ],
      "id": "a3e74d1a"
    },
    {
      "cell_type": "code",
      "metadata": {
        "id": "ea3cfc9d",
        "colab": {
          "base_uri": "https://localhost:8080/"
        },
        "outputId": "314e8dae-bacf-4b15-cc7a-5033c4a93cbd"
      },
      "source": [
        "pol1.area"
      ],
      "id": "ea3cfc9d",
      "execution_count": null,
      "outputs": [
        {
          "output_type": "execute_result",
          "data": {
            "text/plain": [
              "4.5"
            ]
          },
          "metadata": {
            "tags": []
          },
          "execution_count": 33
        }
      ]
    },
    {
      "cell_type": "markdown",
      "metadata": {
        "id": "dbf986d5"
      },
      "source": [
        "This is a simple triangle, so we could easily find its area. For more general shapes, there is the [Shoelace Formula](https://en.wikipedia.org/wiki/Shoelace_formula)"
      ],
      "id": "dbf986d5"
    },
    {
      "cell_type": "code",
      "metadata": {
        "id": "f0042647"
      },
      "source": [
        "def area_shoelace(p, is_area=True):\n",
        "    x, y = p.exterior.xy[0], p.exterior.xy[1]\n",
        "    A = 0.5 * sum([x[i]*y[i+1] - x[i+1]*y[i] for i in range(len(x)-1)])\n",
        "    if is_area:\n",
        "        return abs(A)\n",
        "    else:\n",
        "        return A"
      ],
      "id": "f0042647",
      "execution_count": null,
      "outputs": []
    },
    {
      "cell_type": "code",
      "metadata": {
        "id": "b85132f2",
        "colab": {
          "base_uri": "https://localhost:8080/"
        },
        "outputId": "17eb6772-e071-4bda-eac7-6bd370bdd3e1"
      },
      "source": [
        "area_shoelace(pol1)"
      ],
      "id": "b85132f2",
      "execution_count": null,
      "outputs": [
        {
          "output_type": "execute_result",
          "data": {
            "text/plain": [
              "4.5"
            ]
          },
          "metadata": {
            "tags": []
          },
          "execution_count": 35
        }
      ]
    },
    {
      "cell_type": "code",
      "metadata": {
        "id": "c395e94a",
        "colab": {
          "base_uri": "https://localhost:8080/"
        },
        "outputId": "17eb3f06-9b89-4c6d-fff9-2244ccadc796"
      },
      "source": [
        "pol2.area"
      ],
      "id": "c395e94a",
      "execution_count": null,
      "outputs": [
        {
          "output_type": "execute_result",
          "data": {
            "text/plain": [
              "21.255"
            ]
          },
          "metadata": {
            "tags": []
          },
          "execution_count": 36
        }
      ]
    },
    {
      "cell_type": "code",
      "metadata": {
        "id": "b532dfee",
        "colab": {
          "base_uri": "https://localhost:8080/"
        },
        "outputId": "bdc0c485-aee6-4f5f-e0b2-30c68a5870be"
      },
      "source": [
        "area_shoelace(pol2)"
      ],
      "id": "b532dfee",
      "execution_count": null,
      "outputs": [
        {
          "output_type": "execute_result",
          "data": {
            "text/plain": [
              "21.255"
            ]
          },
          "metadata": {
            "tags": []
          },
          "execution_count": 37
        }
      ]
    },
    {
      "cell_type": "markdown",
      "metadata": {
        "id": "bd10da7e"
      },
      "source": [
        "### 4.2.5 centroid"
      ],
      "id": "bd10da7e"
    },
    {
      "cell_type": "code",
      "metadata": {
        "id": "f03aca06",
        "colab": {
          "base_uri": "https://localhost:8080/",
          "height": 121
        },
        "outputId": "e54d2fb8-7ed9-407d-90b9-f0d7d4b3948d"
      },
      "source": [
        "pol1.centroid"
      ],
      "id": "f03aca06",
      "execution_count": null,
      "outputs": [
        {
          "output_type": "execute_result",
          "data": {
            "text/plain": [
              "<shapely.geometry.point.Point at 0x7fe6339baed0>"
            ],
            "image/svg+xml": "<svg xmlns=\"http://www.w3.org/2000/svg\" xmlns:xlink=\"http://www.w3.org/1999/xlink\" width=\"100.0\" height=\"100.0\" viewBox=\"1.3333333333333335 -0.33333333333333337 2.0 2.0\" preserveAspectRatio=\"xMinYMin meet\"><g transform=\"matrix(1,0,0,-1,0,1.333333333333333)\"><circle cx=\"2.3333333333333335\" cy=\"0.6666666666666666\" r=\"0.06\" stroke=\"#555555\" stroke-width=\"0.02\" fill=\"#66cc99\" opacity=\"0.6\" /></g></svg>"
          },
          "metadata": {
            "tags": []
          },
          "execution_count": 38
        }
      ]
    },
    {
      "cell_type": "code",
      "metadata": {
        "id": "02373c23",
        "colab": {
          "base_uri": "https://localhost:8080/"
        },
        "outputId": "24b76725-4a1f-44d6-dc07-d8eac96f8271"
      },
      "source": [
        "pol1.centroid.xy"
      ],
      "id": "02373c23",
      "execution_count": null,
      "outputs": [
        {
          "output_type": "execute_result",
          "data": {
            "text/plain": [
              "(array('d', [2.3333333333333335]), array('d', [0.6666666666666666]))"
            ]
          },
          "metadata": {
            "tags": []
          },
          "execution_count": 39
        }
      ]
    },
    {
      "cell_type": "code",
      "metadata": {
        "id": "0fbc5e76",
        "colab": {
          "base_uri": "https://localhost:8080/"
        },
        "outputId": "97bd5857-5720-46e1-dc0b-e10faa24b74e"
      },
      "source": [
        "pol2.centroid.xy"
      ],
      "id": "0fbc5e76",
      "execution_count": null,
      "outputs": [
        {
          "output_type": "execute_result",
          "data": {
            "text/plain": [
              "(array('d', [2.3692307692307693]), array('d', [5.1]))"
            ]
          },
          "metadata": {
            "tags": []
          },
          "execution_count": 40
        }
      ]
    },
    {
      "cell_type": "markdown",
      "metadata": {
        "id": "449e4535"
      },
      "source": [
        "Once again, we can calculate this from scratch"
      ],
      "id": "449e4535"
    },
    {
      "cell_type": "code",
      "metadata": {
        "id": "d1694e7f"
      },
      "source": [
        "def centroid_from_scratch(p):\n",
        "    \n",
        "    '''\n",
        "    https://en.wikipedia.org/wiki/Centroid#Of_a_polygon\n",
        "    '''\n",
        "    x, y = p.exterior.xy[0], p.exterior.xy[1]\n",
        "    A = area_shoelace(p, is_area=False)\n",
        "    Cx = (1/(6*A)) * sum([(x[i] + x[i+1])*(x[i]*y[i+1] - x[i+1]*y[i]) for i in range(len(x)-1)])\n",
        "    Cy = (1/(6*A)) * sum([(y[i] + y[i+1])*(x[i]*y[i+1] - x[i+1]*y[i]) for i in range(len(x)-1)])\n",
        "    return Cx, Cy"
      ],
      "id": "d1694e7f",
      "execution_count": null,
      "outputs": []
    },
    {
      "cell_type": "code",
      "metadata": {
        "id": "8b59a66a",
        "colab": {
          "base_uri": "https://localhost:8080/"
        },
        "outputId": "84c0f6f8-3cd2-4f96-b45b-968414f37fc9"
      },
      "source": [
        "centroid_from_scratch(pol1)"
      ],
      "id": "8b59a66a",
      "execution_count": null,
      "outputs": [
        {
          "output_type": "execute_result",
          "data": {
            "text/plain": [
              "(2.333333333333333, 0.6666666666666666)"
            ]
          },
          "metadata": {
            "tags": []
          },
          "execution_count": 42
        }
      ]
    },
    {
      "cell_type": "code",
      "metadata": {
        "id": "4a131575",
        "colab": {
          "base_uri": "https://localhost:8080/"
        },
        "outputId": "613d70a4-2682-4b58-b5f6-4712c62cc188"
      },
      "source": [
        "centroid_from_scratch(pol2)"
      ],
      "id": "4a131575",
      "execution_count": null,
      "outputs": [
        {
          "output_type": "execute_result",
          "data": {
            "text/plain": [
              "(2.369230769230769, 5.1)"
            ]
          },
          "metadata": {
            "tags": []
          },
          "execution_count": 43
        }
      ]
    },
    {
      "cell_type": "markdown",
      "metadata": {
        "id": "68e3a5d9"
      },
      "source": [
        "# 5 Geometry collections"
      ],
      "id": "68e3a5d9"
    },
    {
      "cell_type": "markdown",
      "metadata": {
        "id": "a9875d80"
      },
      "source": [
        "We can have collections of `Point`s, `LineString`s and `Polygon`s in a GeoPandas `geometry` field. So it is good to know about them"
      ],
      "id": "a9875d80"
    },
    {
      "cell_type": "code",
      "metadata": {
        "id": "3705f339"
      },
      "source": [
        "from shapely.geometry import MultiPoint, MultiLineString, MultiPolygon"
      ],
      "id": "3705f339",
      "execution_count": null,
      "outputs": []
    },
    {
      "cell_type": "code",
      "metadata": {
        "id": "51ce8bc0"
      },
      "source": [
        "mpt = MultiPoint([p1, p2, p3])\n",
        "mln = MultiLineString([l1, l2])\n",
        "mpo = MultiPolygon([pol1, pol2])"
      ],
      "id": "51ce8bc0",
      "execution_count": null,
      "outputs": []
    },
    {
      "cell_type": "code",
      "metadata": {
        "id": "4f8c59aa",
        "colab": {
          "base_uri": "https://localhost:8080/",
          "height": 121
        },
        "outputId": "bb642ec8-b9d3-4bd6-f611-b1ea9c036d2c"
      },
      "source": [
        "mpt"
      ],
      "id": "4f8c59aa",
      "execution_count": null,
      "outputs": [
        {
          "output_type": "execute_result",
          "data": {
            "text/plain": [
              "<shapely.geometry.multipoint.MultiPoint at 0x7fe633979590>"
            ],
            "image/svg+xml": "<svg xmlns=\"http://www.w3.org/2000/svg\" xmlns:xlink=\"http://www.w3.org/1999/xlink\" width=\"100.0\" height=\"100.0\" viewBox=\"0.8 -2.2 3.4000000000000004 5.4\" preserveAspectRatio=\"xMinYMin meet\"><g transform=\"matrix(1,0,0,-1,0,1.0)\"><g><circle cx=\"1.0\" cy=\"1.0\" r=\"0.16200000000000003\" stroke=\"#555555\" stroke-width=\"0.054000000000000006\" fill=\"#66cc99\" opacity=\"0.6\" /><circle cx=\"2.0\" cy=\"3.0\" r=\"0.16200000000000003\" stroke=\"#555555\" stroke-width=\"0.054000000000000006\" fill=\"#66cc99\" opacity=\"0.6\" /><circle cx=\"4.0\" cy=\"-2.0\" r=\"0.16200000000000003\" stroke=\"#555555\" stroke-width=\"0.054000000000000006\" fill=\"#66cc99\" opacity=\"0.6\" /></g></g></svg>"
          },
          "metadata": {
            "tags": []
          },
          "execution_count": 46
        }
      ]
    },
    {
      "cell_type": "code",
      "metadata": {
        "id": "d7ff9ef2",
        "colab": {
          "base_uri": "https://localhost:8080/"
        },
        "outputId": "cd6c232f-62b1-42fc-cdca-3903a81c6da6"
      },
      "source": [
        "print(mpt)"
      ],
      "id": "d7ff9ef2",
      "execution_count": null,
      "outputs": [
        {
          "output_type": "stream",
          "text": [
            "MULTIPOINT (1 1, 2 3, 4 -2)\n"
          ],
          "name": "stdout"
        }
      ]
    },
    {
      "cell_type": "code",
      "metadata": {
        "id": "a607b4e8",
        "colab": {
          "base_uri": "https://localhost:8080/",
          "height": 121
        },
        "outputId": "a8290945-5ac4-4506-9c2a-cc5cd9b44436"
      },
      "source": [
        "mln"
      ],
      "id": "a607b4e8",
      "execution_count": null,
      "outputs": [
        {
          "output_type": "execute_result",
          "data": {
            "text/plain": [
              "<shapely.geometry.multilinestring.MultiLineString at 0x7fe633979610>"
            ],
            "image/svg+xml": "<svg xmlns=\"http://www.w3.org/2000/svg\" xmlns:xlink=\"http://www.w3.org/1999/xlink\" width=\"100.0\" height=\"100.0\" viewBox=\"-3.108 -2.408 7.516 11.015999999999998\" preserveAspectRatio=\"xMinYMin meet\"><g transform=\"matrix(1,0,0,-1,0,6.199999999999999)\"><g><polyline fill=\"none\" stroke=\"#66cc99\" stroke-width=\"0.22031999999999996\" points=\"1.0,1.0 2.0,3.0 4.0,-2.0\" opacity=\"0.8\" /><polyline fill=\"none\" stroke=\"#66cc99\" stroke-width=\"0.22031999999999996\" points=\"3.2,1.6 -2.7,8.2\" opacity=\"0.8\" /></g></g></svg>"
          },
          "metadata": {
            "tags": []
          },
          "execution_count": 48
        }
      ]
    },
    {
      "cell_type": "code",
      "metadata": {
        "id": "8d70481d",
        "colab": {
          "base_uri": "https://localhost:8080/"
        },
        "outputId": "b2f34236-3e31-44ce-8655-30c3def4fc8d"
      },
      "source": [
        "print(mln)"
      ],
      "id": "8d70481d",
      "execution_count": null,
      "outputs": [
        {
          "output_type": "stream",
          "text": [
            "MULTILINESTRING ((1 1, 2 3, 4 -2), (3.2 1.6, -2.7 8.199999999999999))\n"
          ],
          "name": "stdout"
        }
      ]
    },
    {
      "cell_type": "code",
      "metadata": {
        "id": "671661e0",
        "colab": {
          "base_uri": "https://localhost:8080/",
          "height": 121
        },
        "outputId": "2a2b6b0a-113e-49a5-fd5f-17fe208f7152"
      },
      "source": [
        "mpo"
      ],
      "id": "671661e0",
      "execution_count": null,
      "outputs": [
        {
          "output_type": "execute_result",
          "data": {
            "text/plain": [
              "<shapely.geometry.multipolygon.MultiPolygon at 0x7fe6339c7b50>"
            ],
            "image/svg+xml": "<svg xmlns=\"http://www.w3.org/2000/svg\" xmlns:xlink=\"http://www.w3.org/1999/xlink\" width=\"100.0\" height=\"100.0\" viewBox=\"-3.136 -2.436 11.771999999999998 11.072\" preserveAspectRatio=\"xMinYMin meet\"><g transform=\"matrix(1,0,0,-1,0,6.199999999999999)\"><g><path fill-rule=\"evenodd\" fill=\"#ff3333\" stroke=\"#555555\" stroke-width=\"0.23543999999999998\" opacity=\"0.6\" d=\"M 1.0,1.0 L 2.0,3.0 L 4.0,-2.0 L 1.0,1.0 z\" /><path fill-rule=\"evenodd\" fill=\"#ff3333\" stroke=\"#555555\" stroke-width=\"0.23543999999999998\" opacity=\"0.6\" d=\"M 3.2,1.6 L -2.7,8.2 L 5.5,5.5 L 8.2,8.2 L 3.2,1.6 z\" /></g></g></svg>"
          },
          "metadata": {
            "tags": []
          },
          "execution_count": 50
        }
      ]
    },
    {
      "cell_type": "code",
      "metadata": {
        "id": "1ddad6f3",
        "colab": {
          "base_uri": "https://localhost:8080/"
        },
        "outputId": "6f61f2b8-6e51-45c0-c9e9-50eae50c614f"
      },
      "source": [
        "print(mpo)"
      ],
      "id": "1ddad6f3",
      "execution_count": null,
      "outputs": [
        {
          "output_type": "stream",
          "text": [
            "MULTIPOLYGON (((1 1, 2 3, 4 -2, 1 1)), ((3.2 1.6, -2.7 8.199999999999999, 5.5 5.5, 8.199999999999999 8.199999999999999, 3.2 1.6)))\n"
          ],
          "name": "stdout"
        }
      ]
    },
    {
      "cell_type": "markdown",
      "metadata": {
        "id": "b16e40c7"
      },
      "source": [
        "Once nice method to know is the `convex_hull`. We can call this on any geometry collection"
      ],
      "id": "b16e40c7"
    },
    {
      "cell_type": "code",
      "metadata": {
        "id": "427ea518",
        "colab": {
          "base_uri": "https://localhost:8080/",
          "height": 121
        },
        "outputId": "7281cd06-88ae-4eb0-fec2-1b2c341f0939"
      },
      "source": [
        "mpt.convex_hull"
      ],
      "id": "427ea518",
      "execution_count": null,
      "outputs": [
        {
          "output_type": "execute_result",
          "data": {
            "text/plain": [
              "<shapely.geometry.polygon.Polygon at 0x7fe63396aa50>"
            ],
            "image/svg+xml": "<svg xmlns=\"http://www.w3.org/2000/svg\" xmlns:xlink=\"http://www.w3.org/1999/xlink\" width=\"100.0\" height=\"100.0\" viewBox=\"0.8 -2.2 3.4000000000000004 5.4\" preserveAspectRatio=\"xMinYMin meet\"><g transform=\"matrix(1,0,0,-1,0,1.0)\"><path fill-rule=\"evenodd\" fill=\"#66cc99\" stroke=\"#555555\" stroke-width=\"0.10800000000000001\" opacity=\"0.6\" d=\"M 4.0,-2.0 L 1.0,1.0 L 2.0,3.0 L 4.0,-2.0 z\" /></g></svg>"
          },
          "metadata": {
            "tags": []
          },
          "execution_count": 52
        }
      ]
    },
    {
      "cell_type": "code",
      "metadata": {
        "id": "9e21444a",
        "colab": {
          "base_uri": "https://localhost:8080/",
          "height": 121
        },
        "outputId": "b322cd4c-1f07-43da-9249-e87ef6933296"
      },
      "source": [
        "mln.convex_hull"
      ],
      "id": "9e21444a",
      "execution_count": null,
      "outputs": [
        {
          "output_type": "execute_result",
          "data": {
            "text/plain": [
              "<shapely.geometry.polygon.Polygon at 0x7fe63396a410>"
            ],
            "image/svg+xml": "<svg xmlns=\"http://www.w3.org/2000/svg\" xmlns:xlink=\"http://www.w3.org/1999/xlink\" width=\"100.0\" height=\"100.0\" viewBox=\"-3.108 -2.408 7.516 11.015999999999998\" preserveAspectRatio=\"xMinYMin meet\"><g transform=\"matrix(1,0,0,-1,0,6.199999999999999)\"><path fill-rule=\"evenodd\" fill=\"#66cc99\" stroke=\"#555555\" stroke-width=\"0.22031999999999996\" opacity=\"0.6\" d=\"M 4.0,-2.0 L 1.0,1.0 L -2.7,8.2 L 2.0,3.0 L 3.2,1.6 L 4.0,-2.0 z\" /></g></svg>"
          },
          "metadata": {
            "tags": []
          },
          "execution_count": 53
        }
      ]
    },
    {
      "cell_type": "code",
      "metadata": {
        "id": "5e869c4a",
        "colab": {
          "base_uri": "https://localhost:8080/",
          "height": 121
        },
        "outputId": "07403b3e-ad56-4f55-ee69-98b6bdc9958b"
      },
      "source": [
        "mpo.convex_hull"
      ],
      "id": "5e869c4a",
      "execution_count": null,
      "outputs": [
        {
          "output_type": "execute_result",
          "data": {
            "text/plain": [
              "<shapely.geometry.polygon.Polygon at 0x7fe633964950>"
            ],
            "image/svg+xml": "<svg xmlns=\"http://www.w3.org/2000/svg\" xmlns:xlink=\"http://www.w3.org/1999/xlink\" width=\"100.0\" height=\"100.0\" viewBox=\"-3.136 -2.436 11.771999999999998 11.072\" preserveAspectRatio=\"xMinYMin meet\"><g transform=\"matrix(1,0,0,-1,0,6.199999999999999)\"><path fill-rule=\"evenodd\" fill=\"#66cc99\" stroke=\"#555555\" stroke-width=\"0.23543999999999998\" opacity=\"0.6\" d=\"M 4.0,-2.0 L 1.0,1.0 L -2.7,8.2 L 8.2,8.2 L 4.0,-2.0 z\" /></g></svg>"
          },
          "metadata": {
            "tags": []
          },
          "execution_count": 54
        }
      ]
    },
    {
      "cell_type": "markdown",
      "metadata": {
        "id": "7858159d"
      },
      "source": [
        "One important property for `MultiPolygon`s is whether they are **valid** -- if their components do not intersect one another."
      ],
      "id": "7858159d"
    },
    {
      "cell_type": "code",
      "metadata": {
        "id": "74fee5bc",
        "colab": {
          "base_uri": "https://localhost:8080/"
        },
        "outputId": "e4854f00-13fc-4a08-ebac-9391f403b5f6"
      },
      "source": [
        "mpo.is_valid"
      ],
      "id": "74fee5bc",
      "execution_count": null,
      "outputs": [
        {
          "output_type": "execute_result",
          "data": {
            "text/plain": [
              "False"
            ]
          },
          "metadata": {
            "tags": []
          },
          "execution_count": 55
        }
      ]
    },
    {
      "cell_type": "markdown",
      "metadata": {
        "id": "ff8197a0"
      },
      "source": [
        "Let's quickly define one that **is** valid"
      ],
      "id": "ff8197a0"
    },
    {
      "cell_type": "code",
      "metadata": {
        "id": "eacd1ef9",
        "colab": {
          "base_uri": "https://localhost:8080/",
          "height": 121
        },
        "outputId": "ec6531f7-8717-4047-ce70-f58424f68175"
      },
      "source": [
        "pol3 = Polygon([(3.2, 2.8), (-2.7, 8.2), (5.5, 5.5), (8.2, 8.2)])\n",
        "mpo2 = MultiPolygon([pol1, pol3])\n",
        "mpo2"
      ],
      "id": "eacd1ef9",
      "execution_count": null,
      "outputs": [
        {
          "output_type": "execute_result",
          "data": {
            "text/plain": [
              "<shapely.geometry.multipolygon.MultiPolygon at 0x7fe633962e10>"
            ],
            "image/svg+xml": "<svg xmlns=\"http://www.w3.org/2000/svg\" xmlns:xlink=\"http://www.w3.org/1999/xlink\" width=\"100.0\" height=\"100.0\" viewBox=\"-3.136 -2.436 11.771999999999998 11.072\" preserveAspectRatio=\"xMinYMin meet\"><g transform=\"matrix(1,0,0,-1,0,6.199999999999999)\"><g><path fill-rule=\"evenodd\" fill=\"#66cc99\" stroke=\"#555555\" stroke-width=\"0.23543999999999998\" opacity=\"0.6\" d=\"M 1.0,1.0 L 2.0,3.0 L 4.0,-2.0 L 1.0,1.0 z\" /><path fill-rule=\"evenodd\" fill=\"#66cc99\" stroke=\"#555555\" stroke-width=\"0.23543999999999998\" opacity=\"0.6\" d=\"M 3.2,2.8 L -2.7,8.2 L 5.5,5.5 L 8.2,8.2 L 3.2,2.8 z\" /></g></g></svg>"
          },
          "metadata": {
            "tags": []
          },
          "execution_count": 56
        }
      ]
    },
    {
      "cell_type": "code",
      "metadata": {
        "id": "e0dc553e",
        "colab": {
          "base_uri": "https://localhost:8080/"
        },
        "outputId": "448ec876-cd32-4418-b672-46b2c7928ffd"
      },
      "source": [
        "mpo2.is_valid"
      ],
      "id": "e0dc553e",
      "execution_count": null,
      "outputs": [
        {
          "output_type": "execute_result",
          "data": {
            "text/plain": [
              "True"
            ]
          },
          "metadata": {
            "tags": []
          },
          "execution_count": 57
        }
      ]
    }
  ]
}